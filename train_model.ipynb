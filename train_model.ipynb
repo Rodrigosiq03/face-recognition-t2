{
 "cells": [
  {
   "cell_type": "code",
   "execution_count": null,
   "metadata": {
    "vscode": {
     "languageId": "plaintext"
    }
   },
   "outputs": [],
   "source": [
    "!pip install torch==2.2.2 torchvision==0.17.2 facenet-pytorch==2.5.2 opencv-python==4.8.1.78 numpy==1.26.4 pillow==10.3.0 tqdm==4.67.1 requests>=2.31.0 matplotlib>=3.2.2 pandas>=1.1.4 seaborn>=0.11.0 PyYAML>=5.3.1"
   ]
  },
  {
   "cell_type": "code",
   "execution_count": null,
   "metadata": {
    "vscode": {
     "languageId": "plaintext"
    }
   },
   "outputs": [],
   "source": [
    "!git clone git clone https://github.com/ultralytics/yolov5 && cd yolov5 && pip install -r requirements.txt"
   ]
  },
  {
   "cell_type": "markdown",
   "metadata": {},
   "source": [
    "Houve a montagem do dataset com o WIDER face, e sua montagem foi feita numa pasta dataset dentro de yolov5, dentro dessa pasta\n",
    "também foi criado o arquivo face_data.yaml:\n",
    "\n",
    "```yaml\n",
    "\n",
    "train: dataset/WIDER/WIDER_train/images\n",
    "val:   dataset/WIDER/WIDER_val/images\n",
    "\n",
    "nc: 1\n",
    "names: [\"face\"]\n",
    "```\n",
    "\n",
    "Com isso feito é possível treinar o modelo com o seguinte comando:\n",
    "\n",
    "```bash\n",
    "python yolov5/train.py --img 640 --batch 16 --epochs 7 --data yolov5/dataset/face_data.yml --weights yolov5n.pt --cache\n",
    "```"
   ]
  }
 ],
 "metadata": {
  "language_info": {
   "name": "python"
  }
 },
 "nbformat": 4,
 "nbformat_minor": 2
}
